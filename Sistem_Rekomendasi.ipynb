{
  "nbformat": 4,
  "nbformat_minor": 0,
  "metadata": {
    "colab": {
      "provenance": []
    },
    "kernelspec": {
      "name": "python3",
      "display_name": "Python 3"
    },
    "language_info": {
      "name": "python"
    }
  },
  "cells": [
    {
      "cell_type": "markdown",
      "source": [
        "# **Sistem Rekomendasi - Aryo Daffa Khairuddin**\n",
        "\n",
        "### Link Dataset : [Fashion Product](https://www.kaggle.com/datasets/bhanupratapbiswas/fashion-products/data)\n",
        "\n",
        "### Link Full Project : https://github.com/aryo04/Sistem-Rekomendasi"
      ],
      "metadata": {
        "id": "URoHu6Cu4DLC"
      }
    },
    {
      "cell_type": "markdown",
      "source": [
        "# **Import Library**"
      ],
      "metadata": {
        "id": "ytjrpsY0AWs2"
      }
    },
    {
      "cell_type": "code",
      "execution_count": 1,
      "metadata": {
        "id": "w0sLYekQ-dJr"
      },
      "outputs": [],
      "source": [
        "import pandas as pd\n",
        "import numpy as np\n",
        "import matplotlib.pyplot as plt\n",
        "import seaborn as sns\n",
        "from sklearn.metrics.pairwise import cosine_similarity, euclidean_distances\n",
        "from sklearn.metrics.pairwise import euclidean_distances\n",
        "from sklearn.preprocessing import OneHotEncoder\n"
      ]
    },
    {
      "cell_type": "markdown",
      "source": [
        "**Insigh**t :\n",
        "* `pandas`: Untuk mengolah dan menganalisis data dalam format tabel.\n",
        "* `numpy`: Untuk operasi angka dan array.\n",
        "* `matplotlib.pyplot` dan `seaborn`: Untuk membuat grafik dan visualisasi data\n",
        "* `sklearn.metrics.pairwise - cosine_similarity`, `euclidean_distances` : Untuk menghitung kemiripan antar vektor fitur.\n",
        "* `sklearn.preprocessing - OneHotEncoder`: Untuk mengubah data kategorikal menjadi format numerik biner yang dapat diproses model machine learning."
      ],
      "metadata": {
        "id": "sJgW-oyw_zXM"
      }
    },
    {
      "cell_type": "markdown",
      "source": [
        "# **Load Data**"
      ],
      "metadata": {
        "id": "4uapgphmFZS1"
      }
    },
    {
      "cell_type": "code",
      "source": [
        "df = pd.read_csv('fashion_products.csv')\n",
        "df.head()"
      ],
      "metadata": {
        "colab": {
          "base_uri": "https://localhost:8080/",
          "height": 206
        },
        "id": "cU5-BwZsFYYM",
        "outputId": "863e7435-c9e3-43fd-9116-e4f6fc928673"
      },
      "execution_count": 2,
      "outputs": [
        {
          "output_type": "execute_result",
          "data": {
            "text/plain": [
              "   User ID  Product ID Product Name   Brand         Category  Price    Rating  \\\n",
              "0       19           1        Dress  Adidas    Men's Fashion     40  1.043159   \n",
              "1       97           2        Shoes     H&M  Women's Fashion     82  4.026416   \n",
              "2       25           3        Dress  Adidas  Women's Fashion     44  3.337938   \n",
              "3       57           4        Shoes    Zara    Men's Fashion     23  1.049523   \n",
              "4       79           5      T-shirt  Adidas    Men's Fashion     79  4.302773   \n",
              "\n",
              "    Color Size  \n",
              "0   Black   XL  \n",
              "1   Black    L  \n",
              "2  Yellow   XL  \n",
              "3   White    S  \n",
              "4   Black    M  "
            ],
            "text/html": [
              "\n",
              "  <div id=\"df-a02800ae-cba6-4e89-8cc7-982fbcd12e5d\" class=\"colab-df-container\">\n",
              "    <div>\n",
              "<style scoped>\n",
              "    .dataframe tbody tr th:only-of-type {\n",
              "        vertical-align: middle;\n",
              "    }\n",
              "\n",
              "    .dataframe tbody tr th {\n",
              "        vertical-align: top;\n",
              "    }\n",
              "\n",
              "    .dataframe thead th {\n",
              "        text-align: right;\n",
              "    }\n",
              "</style>\n",
              "<table border=\"1\" class=\"dataframe\">\n",
              "  <thead>\n",
              "    <tr style=\"text-align: right;\">\n",
              "      <th></th>\n",
              "      <th>User ID</th>\n",
              "      <th>Product ID</th>\n",
              "      <th>Product Name</th>\n",
              "      <th>Brand</th>\n",
              "      <th>Category</th>\n",
              "      <th>Price</th>\n",
              "      <th>Rating</th>\n",
              "      <th>Color</th>\n",
              "      <th>Size</th>\n",
              "    </tr>\n",
              "  </thead>\n",
              "  <tbody>\n",
              "    <tr>\n",
              "      <th>0</th>\n",
              "      <td>19</td>\n",
              "      <td>1</td>\n",
              "      <td>Dress</td>\n",
              "      <td>Adidas</td>\n",
              "      <td>Men's Fashion</td>\n",
              "      <td>40</td>\n",
              "      <td>1.043159</td>\n",
              "      <td>Black</td>\n",
              "      <td>XL</td>\n",
              "    </tr>\n",
              "    <tr>\n",
              "      <th>1</th>\n",
              "      <td>97</td>\n",
              "      <td>2</td>\n",
              "      <td>Shoes</td>\n",
              "      <td>H&amp;M</td>\n",
              "      <td>Women's Fashion</td>\n",
              "      <td>82</td>\n",
              "      <td>4.026416</td>\n",
              "      <td>Black</td>\n",
              "      <td>L</td>\n",
              "    </tr>\n",
              "    <tr>\n",
              "      <th>2</th>\n",
              "      <td>25</td>\n",
              "      <td>3</td>\n",
              "      <td>Dress</td>\n",
              "      <td>Adidas</td>\n",
              "      <td>Women's Fashion</td>\n",
              "      <td>44</td>\n",
              "      <td>3.337938</td>\n",
              "      <td>Yellow</td>\n",
              "      <td>XL</td>\n",
              "    </tr>\n",
              "    <tr>\n",
              "      <th>3</th>\n",
              "      <td>57</td>\n",
              "      <td>4</td>\n",
              "      <td>Shoes</td>\n",
              "      <td>Zara</td>\n",
              "      <td>Men's Fashion</td>\n",
              "      <td>23</td>\n",
              "      <td>1.049523</td>\n",
              "      <td>White</td>\n",
              "      <td>S</td>\n",
              "    </tr>\n",
              "    <tr>\n",
              "      <th>4</th>\n",
              "      <td>79</td>\n",
              "      <td>5</td>\n",
              "      <td>T-shirt</td>\n",
              "      <td>Adidas</td>\n",
              "      <td>Men's Fashion</td>\n",
              "      <td>79</td>\n",
              "      <td>4.302773</td>\n",
              "      <td>Black</td>\n",
              "      <td>M</td>\n",
              "    </tr>\n",
              "  </tbody>\n",
              "</table>\n",
              "</div>\n",
              "    <div class=\"colab-df-buttons\">\n",
              "\n",
              "  <div class=\"colab-df-container\">\n",
              "    <button class=\"colab-df-convert\" onclick=\"convertToInteractive('df-a02800ae-cba6-4e89-8cc7-982fbcd12e5d')\"\n",
              "            title=\"Convert this dataframe to an interactive table.\"\n",
              "            style=\"display:none;\">\n",
              "\n",
              "  <svg xmlns=\"http://www.w3.org/2000/svg\" height=\"24px\" viewBox=\"0 -960 960 960\">\n",
              "    <path d=\"M120-120v-720h720v720H120Zm60-500h600v-160H180v160Zm220 220h160v-160H400v160Zm0 220h160v-160H400v160ZM180-400h160v-160H180v160Zm440 0h160v-160H620v160ZM180-180h160v-160H180v160Zm440 0h160v-160H620v160Z\"/>\n",
              "  </svg>\n",
              "    </button>\n",
              "\n",
              "  <style>\n",
              "    .colab-df-container {\n",
              "      display:flex;\n",
              "      gap: 12px;\n",
              "    }\n",
              "\n",
              "    .colab-df-convert {\n",
              "      background-color: #E8F0FE;\n",
              "      border: none;\n",
              "      border-radius: 50%;\n",
              "      cursor: pointer;\n",
              "      display: none;\n",
              "      fill: #1967D2;\n",
              "      height: 32px;\n",
              "      padding: 0 0 0 0;\n",
              "      width: 32px;\n",
              "    }\n",
              "\n",
              "    .colab-df-convert:hover {\n",
              "      background-color: #E2EBFA;\n",
              "      box-shadow: 0px 1px 2px rgba(60, 64, 67, 0.3), 0px 1px 3px 1px rgba(60, 64, 67, 0.15);\n",
              "      fill: #174EA6;\n",
              "    }\n",
              "\n",
              "    .colab-df-buttons div {\n",
              "      margin-bottom: 4px;\n",
              "    }\n",
              "\n",
              "    [theme=dark] .colab-df-convert {\n",
              "      background-color: #3B4455;\n",
              "      fill: #D2E3FC;\n",
              "    }\n",
              "\n",
              "    [theme=dark] .colab-df-convert:hover {\n",
              "      background-color: #434B5C;\n",
              "      box-shadow: 0px 1px 3px 1px rgba(0, 0, 0, 0.15);\n",
              "      filter: drop-shadow(0px 1px 2px rgba(0, 0, 0, 0.3));\n",
              "      fill: #FFFFFF;\n",
              "    }\n",
              "  </style>\n",
              "\n",
              "    <script>\n",
              "      const buttonEl =\n",
              "        document.querySelector('#df-a02800ae-cba6-4e89-8cc7-982fbcd12e5d button.colab-df-convert');\n",
              "      buttonEl.style.display =\n",
              "        google.colab.kernel.accessAllowed ? 'block' : 'none';\n",
              "\n",
              "      async function convertToInteractive(key) {\n",
              "        const element = document.querySelector('#df-a02800ae-cba6-4e89-8cc7-982fbcd12e5d');\n",
              "        const dataTable =\n",
              "          await google.colab.kernel.invokeFunction('convertToInteractive',\n",
              "                                                    [key], {});\n",
              "        if (!dataTable) return;\n",
              "\n",
              "        const docLinkHtml = 'Like what you see? Visit the ' +\n",
              "          '<a target=\"_blank\" href=https://colab.research.google.com/notebooks/data_table.ipynb>data table notebook</a>'\n",
              "          + ' to learn more about interactive tables.';\n",
              "        element.innerHTML = '';\n",
              "        dataTable['output_type'] = 'display_data';\n",
              "        await google.colab.output.renderOutput(dataTable, element);\n",
              "        const docLink = document.createElement('div');\n",
              "        docLink.innerHTML = docLinkHtml;\n",
              "        element.appendChild(docLink);\n",
              "      }\n",
              "    </script>\n",
              "  </div>\n",
              "\n",
              "\n",
              "    <div id=\"df-01d225a9-83f8-42f2-825c-0b8a778f67a0\">\n",
              "      <button class=\"colab-df-quickchart\" onclick=\"quickchart('df-01d225a9-83f8-42f2-825c-0b8a778f67a0')\"\n",
              "                title=\"Suggest charts\"\n",
              "                style=\"display:none;\">\n",
              "\n",
              "<svg xmlns=\"http://www.w3.org/2000/svg\" height=\"24px\"viewBox=\"0 0 24 24\"\n",
              "     width=\"24px\">\n",
              "    <g>\n",
              "        <path d=\"M19 3H5c-1.1 0-2 .9-2 2v14c0 1.1.9 2 2 2h14c1.1 0 2-.9 2-2V5c0-1.1-.9-2-2-2zM9 17H7v-7h2v7zm4 0h-2V7h2v10zm4 0h-2v-4h2v4z\"/>\n",
              "    </g>\n",
              "</svg>\n",
              "      </button>\n",
              "\n",
              "<style>\n",
              "  .colab-df-quickchart {\n",
              "      --bg-color: #E8F0FE;\n",
              "      --fill-color: #1967D2;\n",
              "      --hover-bg-color: #E2EBFA;\n",
              "      --hover-fill-color: #174EA6;\n",
              "      --disabled-fill-color: #AAA;\n",
              "      --disabled-bg-color: #DDD;\n",
              "  }\n",
              "\n",
              "  [theme=dark] .colab-df-quickchart {\n",
              "      --bg-color: #3B4455;\n",
              "      --fill-color: #D2E3FC;\n",
              "      --hover-bg-color: #434B5C;\n",
              "      --hover-fill-color: #FFFFFF;\n",
              "      --disabled-bg-color: #3B4455;\n",
              "      --disabled-fill-color: #666;\n",
              "  }\n",
              "\n",
              "  .colab-df-quickchart {\n",
              "    background-color: var(--bg-color);\n",
              "    border: none;\n",
              "    border-radius: 50%;\n",
              "    cursor: pointer;\n",
              "    display: none;\n",
              "    fill: var(--fill-color);\n",
              "    height: 32px;\n",
              "    padding: 0;\n",
              "    width: 32px;\n",
              "  }\n",
              "\n",
              "  .colab-df-quickchart:hover {\n",
              "    background-color: var(--hover-bg-color);\n",
              "    box-shadow: 0 1px 2px rgba(60, 64, 67, 0.3), 0 1px 3px 1px rgba(60, 64, 67, 0.15);\n",
              "    fill: var(--button-hover-fill-color);\n",
              "  }\n",
              "\n",
              "  .colab-df-quickchart-complete:disabled,\n",
              "  .colab-df-quickchart-complete:disabled:hover {\n",
              "    background-color: var(--disabled-bg-color);\n",
              "    fill: var(--disabled-fill-color);\n",
              "    box-shadow: none;\n",
              "  }\n",
              "\n",
              "  .colab-df-spinner {\n",
              "    border: 2px solid var(--fill-color);\n",
              "    border-color: transparent;\n",
              "    border-bottom-color: var(--fill-color);\n",
              "    animation:\n",
              "      spin 1s steps(1) infinite;\n",
              "  }\n",
              "\n",
              "  @keyframes spin {\n",
              "    0% {\n",
              "      border-color: transparent;\n",
              "      border-bottom-color: var(--fill-color);\n",
              "      border-left-color: var(--fill-color);\n",
              "    }\n",
              "    20% {\n",
              "      border-color: transparent;\n",
              "      border-left-color: var(--fill-color);\n",
              "      border-top-color: var(--fill-color);\n",
              "    }\n",
              "    30% {\n",
              "      border-color: transparent;\n",
              "      border-left-color: var(--fill-color);\n",
              "      border-top-color: var(--fill-color);\n",
              "      border-right-color: var(--fill-color);\n",
              "    }\n",
              "    40% {\n",
              "      border-color: transparent;\n",
              "      border-right-color: var(--fill-color);\n",
              "      border-top-color: var(--fill-color);\n",
              "    }\n",
              "    60% {\n",
              "      border-color: transparent;\n",
              "      border-right-color: var(--fill-color);\n",
              "    }\n",
              "    80% {\n",
              "      border-color: transparent;\n",
              "      border-right-color: var(--fill-color);\n",
              "      border-bottom-color: var(--fill-color);\n",
              "    }\n",
              "    90% {\n",
              "      border-color: transparent;\n",
              "      border-bottom-color: var(--fill-color);\n",
              "    }\n",
              "  }\n",
              "</style>\n",
              "\n",
              "      <script>\n",
              "        async function quickchart(key) {\n",
              "          const quickchartButtonEl =\n",
              "            document.querySelector('#' + key + ' button');\n",
              "          quickchartButtonEl.disabled = true;  // To prevent multiple clicks.\n",
              "          quickchartButtonEl.classList.add('colab-df-spinner');\n",
              "          try {\n",
              "            const charts = await google.colab.kernel.invokeFunction(\n",
              "                'suggestCharts', [key], {});\n",
              "          } catch (error) {\n",
              "            console.error('Error during call to suggestCharts:', error);\n",
              "          }\n",
              "          quickchartButtonEl.classList.remove('colab-df-spinner');\n",
              "          quickchartButtonEl.classList.add('colab-df-quickchart-complete');\n",
              "        }\n",
              "        (() => {\n",
              "          let quickchartButtonEl =\n",
              "            document.querySelector('#df-01d225a9-83f8-42f2-825c-0b8a778f67a0 button');\n",
              "          quickchartButtonEl.style.display =\n",
              "            google.colab.kernel.accessAllowed ? 'block' : 'none';\n",
              "        })();\n",
              "      </script>\n",
              "    </div>\n",
              "\n",
              "    </div>\n",
              "  </div>\n"
            ],
            "application/vnd.google.colaboratory.intrinsic+json": {
              "type": "dataframe",
              "variable_name": "df",
              "summary": "{\n  \"name\": \"df\",\n  \"rows\": 1000,\n  \"fields\": [\n    {\n      \"column\": \"User ID\",\n      \"properties\": {\n        \"dtype\": \"number\",\n        \"std\": 28,\n        \"min\": 1,\n        \"max\": 100,\n        \"num_unique_values\": 100,\n        \"samples\": [\n          55,\n          4,\n          29\n        ],\n        \"semantic_type\": \"\",\n        \"description\": \"\"\n      }\n    },\n    {\n      \"column\": \"Product ID\",\n      \"properties\": {\n        \"dtype\": \"number\",\n        \"std\": 288,\n        \"min\": 1,\n        \"max\": 1000,\n        \"num_unique_values\": 1000,\n        \"samples\": [\n          522,\n          738,\n          741\n        ],\n        \"semantic_type\": \"\",\n        \"description\": \"\"\n      }\n    },\n    {\n      \"column\": \"Product Name\",\n      \"properties\": {\n        \"dtype\": \"category\",\n        \"num_unique_values\": 5,\n        \"samples\": [\n          \"Shoes\",\n          \"Sweater\",\n          \"T-shirt\"\n        ],\n        \"semantic_type\": \"\",\n        \"description\": \"\"\n      }\n    },\n    {\n      \"column\": \"Brand\",\n      \"properties\": {\n        \"dtype\": \"category\",\n        \"num_unique_values\": 5,\n        \"samples\": [\n          \"H&M\",\n          \"Nike\",\n          \"Zara\"\n        ],\n        \"semantic_type\": \"\",\n        \"description\": \"\"\n      }\n    },\n    {\n      \"column\": \"Category\",\n      \"properties\": {\n        \"dtype\": \"category\",\n        \"num_unique_values\": 3,\n        \"samples\": [\n          \"Men's Fashion\",\n          \"Women's Fashion\",\n          \"Kids' Fashion\"\n        ],\n        \"semantic_type\": \"\",\n        \"description\": \"\"\n      }\n    },\n    {\n      \"column\": \"Price\",\n      \"properties\": {\n        \"dtype\": \"number\",\n        \"std\": 26,\n        \"min\": 10,\n        \"max\": 100,\n        \"num_unique_values\": 91,\n        \"samples\": [\n          59,\n          21,\n          42\n        ],\n        \"semantic_type\": \"\",\n        \"description\": \"\"\n      }\n    },\n    {\n      \"column\": \"Rating\",\n      \"properties\": {\n        \"dtype\": \"number\",\n        \"std\": 1.153185443646673,\n        \"min\": 1.000967235428064,\n        \"max\": 4.987964320970842,\n        \"num_unique_values\": 1000,\n        \"samples\": [\n          2.9390797234183057,\n          1.0338431929963692,\n          3.3868368182647823\n        ],\n        \"semantic_type\": \"\",\n        \"description\": \"\"\n      }\n    },\n    {\n      \"column\": \"Color\",\n      \"properties\": {\n        \"dtype\": \"category\",\n        \"num_unique_values\": 6,\n        \"samples\": [\n          \"Black\",\n          \"Yellow\",\n          \"Red\"\n        ],\n        \"semantic_type\": \"\",\n        \"description\": \"\"\n      }\n    },\n    {\n      \"column\": \"Size\",\n      \"properties\": {\n        \"dtype\": \"category\",\n        \"num_unique_values\": 4,\n        \"samples\": [\n          \"L\",\n          \"M\",\n          \"XL\"\n        ],\n        \"semantic_type\": \"\",\n        \"description\": \"\"\n      }\n    }\n  ]\n}"
            }
          },
          "metadata": {},
          "execution_count": 2
        }
      ]
    },
    {
      "cell_type": "markdown",
      "source": [
        "**Insight** :  Memuat file CSV \"fashion_products.csv\" dan melihat isi awal dataset dengan menampilkan 5 baris pertama."
      ],
      "metadata": {
        "id": "R8vMLLs4Ajm9"
      }
    },
    {
      "cell_type": "markdown",
      "source": [
        "# **Data Understanding**"
      ],
      "metadata": {
        "id": "TMfzdbZgFUbU"
      }
    },
    {
      "cell_type": "code",
      "source": [
        "print(\"Jumlah baris:\", df.shape[0])\n",
        "print(\"Jumlah kolom:\", df.shape[1])"
      ],
      "metadata": {
        "colab": {
          "base_uri": "https://localhost:8080/"
        },
        "id": "7yXQjR4JFq5j",
        "outputId": "b46fdb0a-d089-4798-8e59-450ed33828ec"
      },
      "execution_count": 3,
      "outputs": [
        {
          "output_type": "stream",
          "name": "stdout",
          "text": [
            "Jumlah baris: 1000\n",
            "Jumlah kolom: 9\n"
          ]
        }
      ]
    },
    {
      "cell_type": "markdown",
      "source": [
        "**Insight** : df.shape() digunakan untuk mengetahui jumlah baris dan kolom dimana dari dataset tersebut mempunyai 1000 baris dan 9 kolom."
      ],
      "metadata": {
        "id": "n4seyF1yAr1A"
      }
    },
    {
      "cell_type": "code",
      "source": [
        "df.info()"
      ],
      "metadata": {
        "colab": {
          "base_uri": "https://localhost:8080/"
        },
        "id": "7U8TiDm3FTnw",
        "outputId": "8596bb40-0bda-48b3-8b3b-5c5f242823ce"
      },
      "execution_count": 4,
      "outputs": [
        {
          "output_type": "stream",
          "name": "stdout",
          "text": [
            "<class 'pandas.core.frame.DataFrame'>\n",
            "RangeIndex: 1000 entries, 0 to 999\n",
            "Data columns (total 9 columns):\n",
            " #   Column        Non-Null Count  Dtype  \n",
            "---  ------        --------------  -----  \n",
            " 0   User ID       1000 non-null   int64  \n",
            " 1   Product ID    1000 non-null   int64  \n",
            " 2   Product Name  1000 non-null   object \n",
            " 3   Brand         1000 non-null   object \n",
            " 4   Category      1000 non-null   object \n",
            " 5   Price         1000 non-null   int64  \n",
            " 6   Rating        1000 non-null   float64\n",
            " 7   Color         1000 non-null   object \n",
            " 8   Size          1000 non-null   object \n",
            "dtypes: float64(1), int64(3), object(5)\n",
            "memory usage: 70.4+ KB\n"
          ]
        }
      ]
    },
    {
      "cell_type": "markdown",
      "source": [
        "**Insight** : df.info() digunakan untuk menampilkan struktur dataset, termasuk jumlah baris baris, nama kolom, jumlah non-null, serta tipe data dari masing-masing kolom."
      ],
      "metadata": {
        "id": "0Jv8AZ3bfW0i"
      }
    },
    {
      "cell_type": "code",
      "source": [
        "df.describe()"
      ],
      "metadata": {
        "colab": {
          "base_uri": "https://localhost:8080/",
          "height": 300
        },
        "id": "grBxpqZiFo48",
        "outputId": "3ab452f3-eee6-403d-fb9a-8a6090f9ac18"
      },
      "execution_count": 5,
      "outputs": [
        {
          "output_type": "execute_result",
          "data": {
            "text/plain": [
              "          User ID   Product ID        Price       Rating\n",
              "count  1000.00000  1000.000000  1000.000000  1000.000000\n",
              "mean     50.41900   500.500000    55.785000     2.993135\n",
              "std      28.78131   288.819436    26.291748     1.153185\n",
              "min       1.00000     1.000000    10.000000     1.000967\n",
              "25%      26.00000   250.750000    33.000000     1.992786\n",
              "50%      50.00000   500.500000    57.000000     2.984003\n",
              "75%      75.00000   750.250000    78.250000     3.985084\n",
              "max     100.00000  1000.000000   100.000000     4.987964"
            ],
            "text/html": [
              "\n",
              "  <div id=\"df-4218cd05-b882-482c-8319-eb574149beda\" class=\"colab-df-container\">\n",
              "    <div>\n",
              "<style scoped>\n",
              "    .dataframe tbody tr th:only-of-type {\n",
              "        vertical-align: middle;\n",
              "    }\n",
              "\n",
              "    .dataframe tbody tr th {\n",
              "        vertical-align: top;\n",
              "    }\n",
              "\n",
              "    .dataframe thead th {\n",
              "        text-align: right;\n",
              "    }\n",
              "</style>\n",
              "<table border=\"1\" class=\"dataframe\">\n",
              "  <thead>\n",
              "    <tr style=\"text-align: right;\">\n",
              "      <th></th>\n",
              "      <th>User ID</th>\n",
              "      <th>Product ID</th>\n",
              "      <th>Price</th>\n",
              "      <th>Rating</th>\n",
              "    </tr>\n",
              "  </thead>\n",
              "  <tbody>\n",
              "    <tr>\n",
              "      <th>count</th>\n",
              "      <td>1000.00000</td>\n",
              "      <td>1000.000000</td>\n",
              "      <td>1000.000000</td>\n",
              "      <td>1000.000000</td>\n",
              "    </tr>\n",
              "    <tr>\n",
              "      <th>mean</th>\n",
              "      <td>50.41900</td>\n",
              "      <td>500.500000</td>\n",
              "      <td>55.785000</td>\n",
              "      <td>2.993135</td>\n",
              "    </tr>\n",
              "    <tr>\n",
              "      <th>std</th>\n",
              "      <td>28.78131</td>\n",
              "      <td>288.819436</td>\n",
              "      <td>26.291748</td>\n",
              "      <td>1.153185</td>\n",
              "    </tr>\n",
              "    <tr>\n",
              "      <th>min</th>\n",
              "      <td>1.00000</td>\n",
              "      <td>1.000000</td>\n",
              "      <td>10.000000</td>\n",
              "      <td>1.000967</td>\n",
              "    </tr>\n",
              "    <tr>\n",
              "      <th>25%</th>\n",
              "      <td>26.00000</td>\n",
              "      <td>250.750000</td>\n",
              "      <td>33.000000</td>\n",
              "      <td>1.992786</td>\n",
              "    </tr>\n",
              "    <tr>\n",
              "      <th>50%</th>\n",
              "      <td>50.00000</td>\n",
              "      <td>500.500000</td>\n",
              "      <td>57.000000</td>\n",
              "      <td>2.984003</td>\n",
              "    </tr>\n",
              "    <tr>\n",
              "      <th>75%</th>\n",
              "      <td>75.00000</td>\n",
              "      <td>750.250000</td>\n",
              "      <td>78.250000</td>\n",
              "      <td>3.985084</td>\n",
              "    </tr>\n",
              "    <tr>\n",
              "      <th>max</th>\n",
              "      <td>100.00000</td>\n",
              "      <td>1000.000000</td>\n",
              "      <td>100.000000</td>\n",
              "      <td>4.987964</td>\n",
              "    </tr>\n",
              "  </tbody>\n",
              "</table>\n",
              "</div>\n",
              "    <div class=\"colab-df-buttons\">\n",
              "\n",
              "  <div class=\"colab-df-container\">\n",
              "    <button class=\"colab-df-convert\" onclick=\"convertToInteractive('df-4218cd05-b882-482c-8319-eb574149beda')\"\n",
              "            title=\"Convert this dataframe to an interactive table.\"\n",
              "            style=\"display:none;\">\n",
              "\n",
              "  <svg xmlns=\"http://www.w3.org/2000/svg\" height=\"24px\" viewBox=\"0 -960 960 960\">\n",
              "    <path d=\"M120-120v-720h720v720H120Zm60-500h600v-160H180v160Zm220 220h160v-160H400v160Zm0 220h160v-160H400v160ZM180-400h160v-160H180v160Zm440 0h160v-160H620v160ZM180-180h160v-160H180v160Zm440 0h160v-160H620v160Z\"/>\n",
              "  </svg>\n",
              "    </button>\n",
              "\n",
              "  <style>\n",
              "    .colab-df-container {\n",
              "      display:flex;\n",
              "      gap: 12px;\n",
              "    }\n",
              "\n",
              "    .colab-df-convert {\n",
              "      background-color: #E8F0FE;\n",
              "      border: none;\n",
              "      border-radius: 50%;\n",
              "      cursor: pointer;\n",
              "      display: none;\n",
              "      fill: #1967D2;\n",
              "      height: 32px;\n",
              "      padding: 0 0 0 0;\n",
              "      width: 32px;\n",
              "    }\n",
              "\n",
              "    .colab-df-convert:hover {\n",
              "      background-color: #E2EBFA;\n",
              "      box-shadow: 0px 1px 2px rgba(60, 64, 67, 0.3), 0px 1px 3px 1px rgba(60, 64, 67, 0.15);\n",
              "      fill: #174EA6;\n",
              "    }\n",
              "\n",
              "    .colab-df-buttons div {\n",
              "      margin-bottom: 4px;\n",
              "    }\n",
              "\n",
              "    [theme=dark] .colab-df-convert {\n",
              "      background-color: #3B4455;\n",
              "      fill: #D2E3FC;\n",
              "    }\n",
              "\n",
              "    [theme=dark] .colab-df-convert:hover {\n",
              "      background-color: #434B5C;\n",
              "      box-shadow: 0px 1px 3px 1px rgba(0, 0, 0, 0.15);\n",
              "      filter: drop-shadow(0px 1px 2px rgba(0, 0, 0, 0.3));\n",
              "      fill: #FFFFFF;\n",
              "    }\n",
              "  </style>\n",
              "\n",
              "    <script>\n",
              "      const buttonEl =\n",
              "        document.querySelector('#df-4218cd05-b882-482c-8319-eb574149beda button.colab-df-convert');\n",
              "      buttonEl.style.display =\n",
              "        google.colab.kernel.accessAllowed ? 'block' : 'none';\n",
              "\n",
              "      async function convertToInteractive(key) {\n",
              "        const element = document.querySelector('#df-4218cd05-b882-482c-8319-eb574149beda');\n",
              "        const dataTable =\n",
              "          await google.colab.kernel.invokeFunction('convertToInteractive',\n",
              "                                                    [key], {});\n",
              "        if (!dataTable) return;\n",
              "\n",
              "        const docLinkHtml = 'Like what you see? Visit the ' +\n",
              "          '<a target=\"_blank\" href=https://colab.research.google.com/notebooks/data_table.ipynb>data table notebook</a>'\n",
              "          + ' to learn more about interactive tables.';\n",
              "        element.innerHTML = '';\n",
              "        dataTable['output_type'] = 'display_data';\n",
              "        await google.colab.output.renderOutput(dataTable, element);\n",
              "        const docLink = document.createElement('div');\n",
              "        docLink.innerHTML = docLinkHtml;\n",
              "        element.appendChild(docLink);\n",
              "      }\n",
              "    </script>\n",
              "  </div>\n",
              "\n",
              "\n",
              "    <div id=\"df-6073050c-935b-4644-9249-83561dc6ada8\">\n",
              "      <button class=\"colab-df-quickchart\" onclick=\"quickchart('df-6073050c-935b-4644-9249-83561dc6ada8')\"\n",
              "                title=\"Suggest charts\"\n",
              "                style=\"display:none;\">\n",
              "\n",
              "<svg xmlns=\"http://www.w3.org/2000/svg\" height=\"24px\"viewBox=\"0 0 24 24\"\n",
              "     width=\"24px\">\n",
              "    <g>\n",
              "        <path d=\"M19 3H5c-1.1 0-2 .9-2 2v14c0 1.1.9 2 2 2h14c1.1 0 2-.9 2-2V5c0-1.1-.9-2-2-2zM9 17H7v-7h2v7zm4 0h-2V7h2v10zm4 0h-2v-4h2v4z\"/>\n",
              "    </g>\n",
              "</svg>\n",
              "      </button>\n",
              "\n",
              "<style>\n",
              "  .colab-df-quickchart {\n",
              "      --bg-color: #E8F0FE;\n",
              "      --fill-color: #1967D2;\n",
              "      --hover-bg-color: #E2EBFA;\n",
              "      --hover-fill-color: #174EA6;\n",
              "      --disabled-fill-color: #AAA;\n",
              "      --disabled-bg-color: #DDD;\n",
              "  }\n",
              "\n",
              "  [theme=dark] .colab-df-quickchart {\n",
              "      --bg-color: #3B4455;\n",
              "      --fill-color: #D2E3FC;\n",
              "      --hover-bg-color: #434B5C;\n",
              "      --hover-fill-color: #FFFFFF;\n",
              "      --disabled-bg-color: #3B4455;\n",
              "      --disabled-fill-color: #666;\n",
              "  }\n",
              "\n",
              "  .colab-df-quickchart {\n",
              "    background-color: var(--bg-color);\n",
              "    border: none;\n",
              "    border-radius: 50%;\n",
              "    cursor: pointer;\n",
              "    display: none;\n",
              "    fill: var(--fill-color);\n",
              "    height: 32px;\n",
              "    padding: 0;\n",
              "    width: 32px;\n",
              "  }\n",
              "\n",
              "  .colab-df-quickchart:hover {\n",
              "    background-color: var(--hover-bg-color);\n",
              "    box-shadow: 0 1px 2px rgba(60, 64, 67, 0.3), 0 1px 3px 1px rgba(60, 64, 67, 0.15);\n",
              "    fill: var(--button-hover-fill-color);\n",
              "  }\n",
              "\n",
              "  .colab-df-quickchart-complete:disabled,\n",
              "  .colab-df-quickchart-complete:disabled:hover {\n",
              "    background-color: var(--disabled-bg-color);\n",
              "    fill: var(--disabled-fill-color);\n",
              "    box-shadow: none;\n",
              "  }\n",
              "\n",
              "  .colab-df-spinner {\n",
              "    border: 2px solid var(--fill-color);\n",
              "    border-color: transparent;\n",
              "    border-bottom-color: var(--fill-color);\n",
              "    animation:\n",
              "      spin 1s steps(1) infinite;\n",
              "  }\n",
              "\n",
              "  @keyframes spin {\n",
              "    0% {\n",
              "      border-color: transparent;\n",
              "      border-bottom-color: var(--fill-color);\n",
              "      border-left-color: var(--fill-color);\n",
              "    }\n",
              "    20% {\n",
              "      border-color: transparent;\n",
              "      border-left-color: var(--fill-color);\n",
              "      border-top-color: var(--fill-color);\n",
              "    }\n",
              "    30% {\n",
              "      border-color: transparent;\n",
              "      border-left-color: var(--fill-color);\n",
              "      border-top-color: var(--fill-color);\n",
              "      border-right-color: var(--fill-color);\n",
              "    }\n",
              "    40% {\n",
              "      border-color: transparent;\n",
              "      border-right-color: var(--fill-color);\n",
              "      border-top-color: var(--fill-color);\n",
              "    }\n",
              "    60% {\n",
              "      border-color: transparent;\n",
              "      border-right-color: var(--fill-color);\n",
              "    }\n",
              "    80% {\n",
              "      border-color: transparent;\n",
              "      border-right-color: var(--fill-color);\n",
              "      border-bottom-color: var(--fill-color);\n",
              "    }\n",
              "    90% {\n",
              "      border-color: transparent;\n",
              "      border-bottom-color: var(--fill-color);\n",
              "    }\n",
              "  }\n",
              "</style>\n",
              "\n",
              "      <script>\n",
              "        async function quickchart(key) {\n",
              "          const quickchartButtonEl =\n",
              "            document.querySelector('#' + key + ' button');\n",
              "          quickchartButtonEl.disabled = true;  // To prevent multiple clicks.\n",
              "          quickchartButtonEl.classList.add('colab-df-spinner');\n",
              "          try {\n",
              "            const charts = await google.colab.kernel.invokeFunction(\n",
              "                'suggestCharts', [key], {});\n",
              "          } catch (error) {\n",
              "            console.error('Error during call to suggestCharts:', error);\n",
              "          }\n",
              "          quickchartButtonEl.classList.remove('colab-df-spinner');\n",
              "          quickchartButtonEl.classList.add('colab-df-quickchart-complete');\n",
              "        }\n",
              "        (() => {\n",
              "          let quickchartButtonEl =\n",
              "            document.querySelector('#df-6073050c-935b-4644-9249-83561dc6ada8 button');\n",
              "          quickchartButtonEl.style.display =\n",
              "            google.colab.kernel.accessAllowed ? 'block' : 'none';\n",
              "        })();\n",
              "      </script>\n",
              "    </div>\n",
              "\n",
              "    </div>\n",
              "  </div>\n"
            ],
            "application/vnd.google.colaboratory.intrinsic+json": {
              "type": "dataframe",
              "summary": "{\n  \"name\": \"df\",\n  \"rows\": 8,\n  \"fields\": [\n    {\n      \"column\": \"User ID\",\n      \"properties\": {\n        \"dtype\": \"number\",\n        \"std\": 338.20126218618947,\n        \"min\": 1.0,\n        \"max\": 1000.0,\n        \"num_unique_values\": 8,\n        \"samples\": [\n          50.419,\n          50.0,\n          1000.0\n        ],\n        \"semantic_type\": \"\",\n        \"description\": \"\"\n      }\n    },\n    {\n      \"column\": \"Product ID\",\n      \"properties\": {\n        \"dtype\": \"number\",\n        \"std\": 360.1000917722167,\n        \"min\": 1.0,\n        \"max\": 1000.0,\n        \"num_unique_values\": 6,\n        \"samples\": [\n          1000.0,\n          500.5,\n          750.25\n        ],\n        \"semantic_type\": \"\",\n        \"description\": \"\"\n      }\n    },\n    {\n      \"column\": \"Price\",\n      \"properties\": {\n        \"dtype\": \"number\",\n        \"std\": 336.5907173351229,\n        \"min\": 10.0,\n        \"max\": 1000.0,\n        \"num_unique_values\": 8,\n        \"samples\": [\n          55.785,\n          57.0,\n          1000.0\n        ],\n        \"semantic_type\": \"\",\n        \"description\": \"\"\n      }\n    },\n    {\n      \"column\": \"Rating\",\n      \"properties\": {\n        \"dtype\": \"number\",\n        \"std\": 352.5914385671099,\n        \"min\": 1.000967235428064,\n        \"max\": 1000.0,\n        \"num_unique_values\": 8,\n        \"samples\": [\n          2.9931351057620845,\n          2.984002878443823,\n          1000.0\n        ],\n        \"semantic_type\": \"\",\n        \"description\": \"\"\n      }\n    }\n  ]\n}"
            }
          },
          "metadata": {},
          "execution_count": 5
        }
      ]
    },
    {
      "cell_type": "markdown",
      "source": [
        "**Insight** :\n",
        "\n",
        "* `User ID` dan `Product ID` menunjukkan interaksi dari 100 user terhadap 1000 produk dengan distribusi yang cukup merata.\n",
        "* `Price` harga produk dimulai dari 10-100.\n",
        "* `Rating` rating  dimulai dari 1 sampai hampir 5 dengan rata-rata hampir 3."
      ],
      "metadata": {
        "id": "RQl85aMvBfJE"
      }
    },
    {
      "cell_type": "code",
      "source": [
        "rating_counts = df['Rating'].value_counts()\n",
        "print(rating_counts)\n",
        "print(f\"\\nTotal rating dengan 0: {rating_counts.get(0, 0)}\")"
      ],
      "metadata": {
        "colab": {
          "base_uri": "https://localhost:8080/"
        },
        "id": "qOn0i43BGuXW",
        "outputId": "bc612636-d4e8-4803-8326-f7a378a04c19"
      },
      "execution_count": 6,
      "outputs": [
        {
          "output_type": "stream",
          "name": "stdout",
          "text": [
            "Rating\n",
            "3.093553    1\n",
            "1.043159    1\n",
            "4.026416    1\n",
            "3.337938    1\n",
            "1.049523    1\n",
            "           ..\n",
            "1.601194    1\n",
            "2.699736    1\n",
            "1.160988    1\n",
            "4.093234    1\n",
            "4.466182    1\n",
            "Name: count, Length: 1000, dtype: int64\n",
            "\n",
            "Total rating dengan 0: 0\n"
          ]
        }
      ]
    },
    {
      "cell_type": "markdown",
      "source": [
        "**Insight** :\n",
        "\n",
        "Tidak terdapat rating dengan nilai 0."
      ],
      "metadata": {
        "id": "UKno0wRvCvc9"
      }
    },
    {
      "cell_type": "code",
      "source": [
        "df.isnull().sum()"
      ],
      "metadata": {
        "colab": {
          "base_uri": "https://localhost:8080/",
          "height": 366
        },
        "id": "VVEA9BmeF1su",
        "outputId": "42f32f2a-7895-4b9d-e2de-6397ea8a34c6"
      },
      "execution_count": 7,
      "outputs": [
        {
          "output_type": "execute_result",
          "data": {
            "text/plain": [
              "User ID         0\n",
              "Product ID      0\n",
              "Product Name    0\n",
              "Brand           0\n",
              "Category        0\n",
              "Price           0\n",
              "Rating          0\n",
              "Color           0\n",
              "Size            0\n",
              "dtype: int64"
            ],
            "text/html": [
              "<div>\n",
              "<style scoped>\n",
              "    .dataframe tbody tr th:only-of-type {\n",
              "        vertical-align: middle;\n",
              "    }\n",
              "\n",
              "    .dataframe tbody tr th {\n",
              "        vertical-align: top;\n",
              "    }\n",
              "\n",
              "    .dataframe thead th {\n",
              "        text-align: right;\n",
              "    }\n",
              "</style>\n",
              "<table border=\"1\" class=\"dataframe\">\n",
              "  <thead>\n",
              "    <tr style=\"text-align: right;\">\n",
              "      <th></th>\n",
              "      <th>0</th>\n",
              "    </tr>\n",
              "  </thead>\n",
              "  <tbody>\n",
              "    <tr>\n",
              "      <th>User ID</th>\n",
              "      <td>0</td>\n",
              "    </tr>\n",
              "    <tr>\n",
              "      <th>Product ID</th>\n",
              "      <td>0</td>\n",
              "    </tr>\n",
              "    <tr>\n",
              "      <th>Product Name</th>\n",
              "      <td>0</td>\n",
              "    </tr>\n",
              "    <tr>\n",
              "      <th>Brand</th>\n",
              "      <td>0</td>\n",
              "    </tr>\n",
              "    <tr>\n",
              "      <th>Category</th>\n",
              "      <td>0</td>\n",
              "    </tr>\n",
              "    <tr>\n",
              "      <th>Price</th>\n",
              "      <td>0</td>\n",
              "    </tr>\n",
              "    <tr>\n",
              "      <th>Rating</th>\n",
              "      <td>0</td>\n",
              "    </tr>\n",
              "    <tr>\n",
              "      <th>Color</th>\n",
              "      <td>0</td>\n",
              "    </tr>\n",
              "    <tr>\n",
              "      <th>Size</th>\n",
              "      <td>0</td>\n",
              "    </tr>\n",
              "  </tbody>\n",
              "</table>\n",
              "</div><br><label><b>dtype:</b> int64</label>"
            ]
          },
          "metadata": {},
          "execution_count": 7
        }
      ]
    },
    {
      "cell_type": "markdown",
      "source": [
        "**Insight** :\n",
        "\n",
        "Tidak terdapat missing value."
      ],
      "metadata": {
        "id": "G6HVH1ksC2RU"
      }
    },
    {
      "cell_type": "code",
      "source": [
        "df.duplicated().sum()"
      ],
      "metadata": {
        "colab": {
          "base_uri": "https://localhost:8080/"
        },
        "id": "heS0l25lF9Ak",
        "outputId": "cbea3a89-ba3d-49d7-e319-39814d67a144"
      },
      "execution_count": 8,
      "outputs": [
        {
          "output_type": "execute_result",
          "data": {
            "text/plain": [
              "np.int64(0)"
            ]
          },
          "metadata": {},
          "execution_count": 8
        }
      ]
    },
    {
      "cell_type": "markdown",
      "source": [
        "Tidak terdapat data yang duplikat."
      ],
      "metadata": {
        "id": "BVNQD5npC4yG"
      }
    },
    {
      "cell_type": "markdown",
      "source": [
        "## **Eksploratory Data Analyst**"
      ],
      "metadata": {
        "id": "40BuzJXkJixl"
      }
    },
    {
      "cell_type": "markdown",
      "source": [
        "### Distribusi Variabel Kategorikal"
      ],
      "metadata": {
        "id": "zal8V182OvzQ"
      }
    },
    {
      "cell_type": "code",
      "source": [
        "plt.figure(figsize=(15, 15))\n",
        "\n",
        "# Plot distribusi Kategori\n",
        "plt.subplot(3, 2, 1)\n",
        "sns.countplot(data=df, x='Category', palette='viridis')\n",
        "plt.title('Distribusi Kategori Produk')\n",
        "plt.xticks(rotation=45)\n",
        "\n",
        "# Plot distribusi Merek\n",
        "plt.subplot(3, 2, 2)\n",
        "sns.countplot(data=df, x='Brand', palette='viridis')\n",
        "plt.title('Distribusi Merek')\n",
        "plt.xticks(rotation=45)\n",
        "\n",
        "# Plot distribusi Warna\n",
        "plt.subplot(3, 2, 3)\n",
        "sns.countplot(data=df, x='Color', palette='viridis')\n",
        "plt.title('Distribusi Warna')\n",
        "plt.xticks(rotation=45)\n",
        "\n",
        "# Plot distribusi Ukuran\n",
        "plt.subplot(3, 2, 4)\n",
        "sns.countplot(data=df, x='Size', palette='viridis')\n",
        "plt.title('Distribusi Ukuran')\n",
        "plt.xticks(rotation=45)\n",
        "\n",
        "# Plot distribusi Ukuran\n",
        "plt.subplot(3, 2, 5)\n",
        "sns.countplot(data=df, x='Product Name', palette='viridis')\n",
        "plt.title('Distribusi Nama Produk')\n",
        "plt.xticks(rotation=45)\n",
        "\n",
        "plt.tight_layout()\n",
        "plt.show()"
      ],
      "metadata": {
        "colab": {
          "base_uri": "https://localhost:8080/",
          "height": 1000
        },
        "id": "9LRUCsG6OKY9",
        "outputId": "db31dfb4-3860-4668-9801-818bee5b363a"
      },
      "execution_count": 9,
      "outputs": [
        {
          "output_type": "stream",
          "name": "stderr",
          "text": [
            "<ipython-input-9-f3068a54e53d>:5: FutureWarning: \n",
            "\n",
            "Passing `palette` without assigning `hue` is deprecated and will be removed in v0.14.0. Assign the `x` variable to `hue` and set `legend=False` for the same effect.\n",
            "\n",
            "  sns.countplot(data=df, x='Category', palette='viridis')\n",
            "<ipython-input-9-f3068a54e53d>:11: FutureWarning: \n",
            "\n",
            "Passing `palette` without assigning `hue` is deprecated and will be removed in v0.14.0. Assign the `x` variable to `hue` and set `legend=False` for the same effect.\n",
            "\n",
            "  sns.countplot(data=df, x='Brand', palette='viridis')\n",
            "<ipython-input-9-f3068a54e53d>:17: FutureWarning: \n",
            "\n",
            "Passing `palette` without assigning `hue` is deprecated and will be removed in v0.14.0. Assign the `x` variable to `hue` and set `legend=False` for the same effect.\n",
            "\n",
            "  sns.countplot(data=df, x='Color', palette='viridis')\n",
            "<ipython-input-9-f3068a54e53d>:23: FutureWarning: \n",
            "\n",
            "Passing `palette` without assigning `hue` is deprecated and will be removed in v0.14.0. Assign the `x` variable to `hue` and set `legend=False` for the same effect.\n",
            "\n",
            "  sns.countplot(data=df, x='Size', palette='viridis')\n",
            "<ipython-input-9-f3068a54e53d>:29: FutureWarning: \n",
            "\n",
            "Passing `palette` without assigning `hue` is deprecated and will be removed in v0.14.0. Assign the `x` variable to `hue` and set `legend=False` for the same effect.\n",
            "\n",
            "  sns.countplot(data=df, x='Product Name', palette='viridis')\n"
          ]
        },
        {
          "output_type": "display_data",
          "data": {
            "text/plain": [
              "<Figure size 1500x1500 with 5 Axes>"
            ],
            "image/png": "[encoded data removed]"
          },
          "metadata": {}
        }
      ]
    },
    {
      "cell_type": "markdown",
      "source": [
        "**Insight** :\n",
        "\n",
        "1. `Category` : Tiga kategori fashion (Men’s, Women’s, Kid’s) memiliki distribusi yang cukup seimbang, namun Kid’s Fashion sedikit lebih tinggi.\n",
        "\n",
        "2. `Brand` : Semua brand populer (Adidas, H&M, Zara, Gucci, Nike) memiliki jumlah produk yang hampir merata, dengan Nike sedikit lebih tinggi.\n",
        "\n",
        "3. `Color` : Warna White paling sering muncul, diikuti oleh Yellow dan Blue. Warna Red paling sedikit.\n",
        "\n",
        "4. `Size` : Distribusi merata dengan XL dan L sedikit lebih tinggi dibandingkan s dan m.\n",
        "\n",
        "5. `Product Name` : Produk Jeans dan Shoes paling tinggi, sementara Sweater memiliki jumlah paling sedikit."
      ],
      "metadata": {
        "id": "hTC17bSzDc2M"
      }
    },
    {
      "cell_type": "markdown",
      "source": [
        "### Distribusi Rating per Kategori"
      ],
      "metadata": {
        "id": "oOFvGYjugTrY"
      }
    },
    {
      "cell_type": "code",
      "source": [
        "plt.figure(figsize=(10, 6))\n",
        "sns.boxplot(x='Category', y='Rating', data=df)\n",
        "plt.title('Distribusi Rating per Kategori')\n",
        "plt.xlabel('Kategori')\n",
        "plt.ylabel('Rating')\n",
        "plt.xticks(rotation=45)\n",
        "plt.show()"
      ],
      "metadata": {
        "colab": {
          "base_uri": "https://localhost:8080/",
          "height": 645
        },
        "id": "dvmE2UXmayoI",
        "outputId": "b7c4611e-c8c6-49cb-ff5b-98a3a92863c1"
      },
      "execution_count": 10,
      "outputs": [
        {
          "output_type": "display_data",
          "data": {
            "text/plain": [
              "<Figure size 1000x600 with 1 Axes>"
            ],
            "image/png": "[encoded data removed]"
          },
          "metadata": {}
        }
      ]
    },
    {
      "cell_type": "markdown",
      "source": [
        "**Insight** :\n",
        "\n",
        "* Ketiga kategori (`Men's Fashion, Women's Fashion, dan Kids Fashion`) menunjukkan distribusi rating yang serupa, dengan rentang rating dari 1 hingga 5.\n",
        "\n",
        "* Median rating dari ketiga kategori berada di sekitar 3, dengan:\n",
        "\n",
        "  * `Women's Fashion` dan `Kid's Fashion` memiliki median sedikit lebih tinggi dari `Men's Fashion`.\n",
        "\n",
        "  * Ini mengindikasikan bahwa produk di dua kategori tersebut cenderung mendapat penilaian lebih tinggi secara konsisten dibanding `Men's Fashion`.\n",
        "\n",
        "* IQR terlihat cukup lebar di semua kategori, menunjukkan keragaman penilaian pengguna cukup besar."
      ],
      "metadata": {
        "id": "H5FFo4QOF_RF"
      }
    },
    {
      "cell_type": "markdown",
      "source": [
        "### Rata-rata Rating per Kategori"
      ],
      "metadata": {
        "id": "TvJkKOxOlh2M"
      }
    },
    {
      "cell_type": "code",
      "source": [
        "avg_rating_by_category = df.groupby('Category')['Rating'].mean().sort_values()\n",
        "plt.figure(figsize=(6, 4))\n",
        "sns.barplot(x=avg_rating_by_category.index, y=avg_rating_by_category.values, palette='Blues')\n",
        "plt.title('Rata-rata Rating per Kategori')\n",
        "plt.xlabel('Kategori')\n",
        "plt.ylabel('Rata-rata Rating')\n",
        "plt.show()\n"
      ],
      "metadata": {
        "colab": {
          "base_uri": "https://localhost:8080/",
          "height": 501
        },
        "id": "hSrRxT9Zej5F",
        "outputId": "f7a8bddc-a7a3-4bda-c6e2-b55dcd91db8d"
      },
      "execution_count": 11,
      "outputs": [
        {
          "output_type": "stream",
          "name": "stderr",
          "text": [
            "<ipython-input-11-e3294e9bf25e>:3: FutureWarning: \n",
            "\n",
            "Passing `palette` without assigning `hue` is deprecated and will be removed in v0.14.0. Assign the `x` variable to `hue` and set `legend=False` for the same effect.\n",
            "\n",
            "  sns.barplot(x=avg_rating_by_category.index, y=avg_rating_by_category.values, palette='Blues')\n"
          ]
        },
        {
          "output_type": "display_data",
          "data": {
            "text/plain": [
              "<Figure size 600x400 with 1 Axes>"
            ],
            "image/png": "[encoded data removed]"
          },
          "metadata": {}
        }
      ]
    },
    {
      "cell_type": "markdown",
      "source": [
        "**Insight** :\n",
        "\n",
        "1. `Kids' Fashion` memiliki rata-rata rating tertinggi\n",
        "\n",
        "  Nilai rata-rata rating kategori ini sedikit di atas 3.0, menunjukkan bahwa secara umum, produk-produk Kids' Fashion lebih disukai oleh pelanggan dibanding dua kategori lainnya.\n",
        "\n",
        "2. `Women's Fashion` berada di urutan kedua\n",
        "\n",
        "  Rata-rata rating-nya tepat di angka 3.0, menandakan kepuasan pelanggan yang cukup baik dan stabil.\n",
        "\n",
        "3. `Men's Fashion` memiliki rata-rata rating terendah\n",
        "\n",
        "  Dengan rata-rata rating sedikit di bawah 3.0, Men's Fashion tampaknya memiliki performa penilaian pengguna yang sedikit lebih rendah dibandingkan dua kategori lainnya."
      ],
      "metadata": {
        "id": "VVomkvzQItxd"
      }
    },
    {
      "cell_type": "markdown",
      "source": [
        "### Distribusi Variabel Numerik"
      ],
      "metadata": {
        "id": "9PgLOOQTd9y8"
      }
    },
    {
      "cell_type": "code",
      "source": [
        "plt.figure(figsize=(12, 5))\n",
        "\n",
        "# Plot distribusi Harga\n",
        "plt.subplot(1, 2, 1)\n",
        "sns.histplot(data=df, x='Price', kde=True, bins=20)\n",
        "plt.title('Distribusi Harga')\n",
        "\n",
        "# Plot distribusi Rating\n",
        "plt.subplot(1, 2, 2)\n",
        "sns.histplot(data=df, x='Rating', kde=True, bins=10)\n",
        "plt.title('Distribusi Rating')\n",
        "\n",
        "plt.tight_layout()\n",
        "plt.show()"
      ],
      "metadata": {
        "colab": {
          "base_uri": "https://localhost:8080/",
          "height": 507
        },
        "id": "C2cg3x2wd5VE",
        "outputId": "e6374974-76f3-4c89-b1c0-5a042bad4bdd"
      },
      "execution_count": 12,
      "outputs": [
        {
          "output_type": "display_data",
          "data": {
            "text/plain": [
              "<Figure size 1200x500 with 2 Axes>"
            ],
            "image/png": "[encoded data removed]"
          },
          "metadata": {}
        }
      ]
    },
    {
      "cell_type": "markdown",
      "source": [
        "**Insight** :\n",
        "\n",
        "* Harga produk tersebar merata di rentang 10 hingga 100 dan distribusi harga cenderung datar, menunjukkan ketersediaan produk di berbagai level harga secara seimbang.\n",
        "\n",
        "* Rating tersebar dari 1 hingga 5, dengan puncak pada rating 3 dan Rrating 1 dan 5 juga cukup tinggi, menunjukkan pengalaman pengguna yang beragam—baik sangat puas maupun sangat tidak puas."
      ],
      "metadata": {
        "id": "CMRzlMqsJoJk"
      }
    },
    {
      "cell_type": "markdown",
      "source": [
        "# **Data Preparation**"
      ],
      "metadata": {
        "id": "dd5gPhrFxx0a"
      }
    },
    {
      "cell_type": "markdown",
      "source": [
        "### Seleksi Fitur"
      ],
      "metadata": {
        "id": "PGKDVSgvgcjo"
      }
    },
    {
      "cell_type": "code",
      "source": [
        "# Memilih fitur untuk rekomendasi\n",
        "features = ['Product Name', 'Brand', 'Category', 'Color', 'Size']\n",
        "data_features = df[features]"
      ],
      "metadata": {
        "id": "lk2Hb2R41iKx"
      },
      "execution_count": 13,
      "outputs": []
    },
    {
      "cell_type": "markdown",
      "source": [
        "**Insight** : Seleksi fitur dilakukan untuk menentukan atribut yang paling relevan dalam menghasilkan rekomendasi yang bermakna. Fitur Product Name, Brand, Category, Color, dan Size dipilih karena mewakili karakteristik utama produk fashion yang memengaruhi preferensi pengguna"
      ],
      "metadata": {
        "id": "8LlcbiKbMHTM"
      }
    },
    {
      "cell_type": "markdown",
      "source": [
        "### Encoding"
      ],
      "metadata": {
        "id": "HQ6OAq5Lgl8w"
      }
    },
    {
      "cell_type": "code",
      "source": [
        "# One-Hot Encoding\n",
        "encoder = OneHotEncoder(sparse_output=False, handle_unknown='ignore')\n",
        "encoded_features = encoder.fit_transform(data_features)\n",
        "encoded_df = pd.DataFrame(encoded_features, columns=encoder.get_feature_names_out(features))"
      ],
      "metadata": {
        "id": "gsMD7BO-1jSD"
      },
      "execution_count": 14,
      "outputs": []
    },
    {
      "cell_type": "markdown",
      "source": [
        "**Insight** : Fitur seperti Product Name, Brand, Category, Color, dan Size bersifat kategorikal, sedangkan cosine similarity memerlukan data dalam format numerik. One-Hot Encoding mengubah setiap kategori menjadi vektor biner, memungkinkan perhitungan kesamaan matematis antar produk dan sistem dapat mengukur jarak atau kesamaan antar produk berdasarkan atribut ini."
      ],
      "metadata": {
        "id": "EFNmNEJVMLxc"
      }
    },
    {
      "cell_type": "markdown",
      "source": [
        "### Penggabungan Data"
      ],
      "metadata": {
        "id": "vVfTv-mI2VaF"
      }
    },
    {
      "cell_type": "code",
      "source": [
        "# Menambahkan kolom asli untuk referensi\n",
        "encoded_df = pd.concat([encoded_df, df[['Product ID', 'Product Name', 'Brand', 'Category', 'Color', 'Size', 'Rating', 'Price']]], axis=1)"
      ],
      "metadata": {
        "id": "I7R0we6hoWep"
      },
      "execution_count": 15,
      "outputs": []
    },
    {
      "cell_type": "markdown",
      "source": [
        "**Insight** : Setelah encoding, DataFrame hanya berisi vektor biner yang sulit diinterpretasikan tanpa konteks asli. Menambahkan kolom referensi seperti Product ID, Product Name, Brand, Category, Color, Size, Rating, dan Price memungkinkan pengguna untuk memahami produk yang direkomendasikan dengan jelas."
      ],
      "metadata": {
        "id": "aqcRQACXMg6c"
      }
    },
    {
      "cell_type": "markdown",
      "source": [
        "# **Modeling**"
      ],
      "metadata": {
        "id": "X1zwYYUbp44d"
      }
    },
    {
      "cell_type": "markdown",
      "source": [
        "### Consine Similartiy"
      ],
      "metadata": {
        "id": "kRPjsa6CYgIz"
      }
    },
    {
      "cell_type": "code",
      "source": [
        "cosine_sim = cosine_similarity(encoded_df[encoder.get_feature_names_out(features)])\n",
        "cosine_sim"
      ],
      "metadata": {
        "id": "tCb4s1Wl1lmz",
        "colab": {
          "base_uri": "https://localhost:8080/"
        },
        "outputId": "c58907c7-4fb9-4e68-ead8-babc9e6b242c"
      },
      "execution_count": 16,
      "outputs": [
        {
          "output_type": "execute_result",
          "data": {
            "text/plain": [
              "array([[1. , 0.2, 0.6, ..., 0.2, 0. , 0.2],\n",
              "       [0.2, 1. , 0.2, ..., 0.2, 0.2, 0.6],\n",
              "       [0.6, 0.2, 1. , ..., 0. , 0.2, 0.4],\n",
              "       ...,\n",
              "       [0.2, 0.2, 0. , ..., 1. , 0.2, 0.4],\n",
              "       [0. , 0.2, 0.2, ..., 0.2, 1. , 0.2],\n",
              "       [0.2, 0.6, 0.4, ..., 0.4, 0.2, 1. ]])"
            ]
          },
          "metadata": {},
          "execution_count": 16
        }
      ]
    },
    {
      "cell_type": "markdown",
      "source": [
        "**Insight** : menghitung cosine similarity antara semua produk dalam dataset berdasarkan fitur yang telah dienkode."
      ],
      "metadata": {
        "id": "4SqTb6fUNLT0"
      }
    },
    {
      "cell_type": "code",
      "source": [
        "# Fungsi untuk mendapatkan rekomendasi berdasarkan atribut degnan consine similarity\n",
        "def get_recommendations_by_attributes(product_name, brand, category, color, size, top_n=5):\n",
        "    input_data = pd.DataFrame({\n",
        "        'Product Name': [product_name],\n",
        "        'Brand': [brand],\n",
        "        'Category': [category],\n",
        "        'Color': [color],\n",
        "        'Size': [size]\n",
        "    })\n",
        "    input_encoded = encoder.transform(input_data)\n",
        "    sim_scores = cosine_similarity(input_encoded, encoded_df[encoder.get_feature_names_out(features)])\n",
        "    sim_scores = list(enumerate(sim_scores[0]))\n",
        "    sim_scores = sorted(sim_scores, key=lambda x: x[1], reverse=True)\n",
        "    sim_scores = sim_scores[:top_n]\n",
        "    product_indices = [i[0] for i in sim_scores]\n",
        "    similarity_scores = [i[1] for i in sim_scores]\n",
        "    recommendations = df.iloc[product_indices][['Product ID', 'Product Name', 'Brand', 'Category', 'Color', 'Size', 'Rating', 'Price']].copy()\n",
        "    recommendations['Similarity Score'] = similarity_scores\n",
        "    return recommendations, product_indices, similarity_scores\n",
        "\n",
        "# --- Test Case ---\n",
        "product_name = 'Shoes'\n",
        "brand = 'Zara'\n",
        "category = \"Men's Fashion\"\n",
        "color = 'White'\n",
        "size = 'S'\n",
        "\n",
        "# --- Menghasilkan dan Menampilkan Rekomendasi ---\n",
        "print(\"\\nRekomendasi (Cosine Similarity):\")\n",
        "recommendations, _, _ = get_recommendations_by_attributes(\n",
        "    product_name, brand, category, color, size, top_n=5\n",
        ")\n",
        "print(recommendations)"
      ],
      "metadata": {
        "id": "zYJcTzzm8yxr",
        "colab": {
          "base_uri": "https://localhost:8080/"
        },
        "outputId": "c3e270fb-cd9d-4d28-ae03-2a3a6d202ba2"
      },
      "execution_count": 17,
      "outputs": [
        {
          "output_type": "stream",
          "name": "stdout",
          "text": [
            "\n",
            "Rekomendasi (Cosine Similarity):\n",
            "     Product ID Product Name Brand       Category  Color Size    Rating  \\\n",
            "3             4        Shoes  Zara  Men's Fashion  White    S  1.049523   \n",
            "235         236        Shoes  Zara  Men's Fashion  White    S  1.718298   \n",
            "667         668        Shoes  Zara  Men's Fashion  White    S  1.842279   \n",
            "713         714        Shoes  Zara  Men's Fashion  White    S  2.491495   \n",
            "92           93        Shoes  Nike  Men's Fashion  White    S  4.928128   \n",
            "\n",
            "     Price  Similarity Score  \n",
            "3       23               1.0  \n",
            "235     44               1.0  \n",
            "667     11               1.0  \n",
            "713     35               1.0  \n",
            "92      70               0.8  \n"
          ]
        }
      ]
    },
    {
      "cell_type": "markdown",
      "source": [
        "**Insight** : fungsi di atas adalah komponen operasional dari model, yang menerima input atribut pengguna (Product Name, Brand, Category, Color, Size) dan mengembalikan top-5 rekomendasi produk berdasarkan kesamaan dengan input."
      ],
      "metadata": {
        "id": "ghbT3d_ONhjf"
      }
    },
    {
      "cell_type": "markdown",
      "source": [
        "### Euclidean Distance"
      ],
      "metadata": {
        "id": "CwVWLdDLYka0"
      }
    },
    {
      "cell_type": "code",
      "source": [
        "# Menghitung Matriks Jarak Euclidean\n",
        "euclidean_dist = euclidean_distances(encoded_df[encoder.get_feature_names_out(features)])\n",
        "euclidean_sim = 1 / (1 + euclidean_dist)\n",
        "euclidean_sim"
      ],
      "metadata": {
        "colab": {
          "base_uri": "https://localhost:8080/"
        },
        "id": "G8ojrhNRYoYv",
        "outputId": "4fd9b041-58d1-44a6-ce20-17330129ac6a"
      },
      "execution_count": 18,
      "outputs": [
        {
          "output_type": "execute_result",
          "data": {
            "text/plain": [
              "array([[1.        , 0.26120387, 0.33333333, ..., 0.26120387, 0.24025307,\n",
              "        0.26120387],\n",
              "       [0.26120387, 1.        , 0.26120387, ..., 0.26120387, 0.26120387,\n",
              "        0.33333333],\n",
              "       [0.33333333, 0.26120387, 1.        , ..., 0.24025307, 0.26120387,\n",
              "        0.28989795],\n",
              "       ...,\n",
              "       [0.26120387, 0.26120387, 0.24025307, ..., 1.        , 0.26120387,\n",
              "        0.28989795],\n",
              "       [0.24025307, 0.26120387, 0.26120387, ..., 0.26120387, 1.        ,\n",
              "        0.26120387],\n",
              "       [0.26120387, 0.33333333, 0.28989795, ..., 0.28989795, 0.26120387,\n",
              "        1.        ]])"
            ]
          },
          "metadata": {},
          "execution_count": 18
        }
      ]
    },
    {
      "cell_type": "markdown",
      "source": [
        "**Insight** : Menghitung matriks jarak euclidean antara semua pasangan produk berdasarkan fitur yang telah dienkode."
      ],
      "metadata": {
        "id": "VddlwArZ2bi6"
      }
    },
    {
      "cell_type": "code",
      "source": [
        "# Fungsi untuk mendapatkan rekomendasi berdasarkan atribut dengan ecludian distances\n",
        "def get_recommendations_by_attributes_euclidean(product_name, brand, category, color, size, top_n=5):\n",
        "    input_data = pd.DataFrame({\n",
        "        'Product Name': [product_name],\n",
        "        'Brand': [brand],\n",
        "        'Category': [category],\n",
        "        'Color': [color],\n",
        "        'Size': [size]\n",
        "    })\n",
        "    input_encoded = encoder.transform(input_data)\n",
        "    dist_scores = euclidean_distances(input_encoded, encoded_df[encoder.get_feature_names_out(features)])\n",
        "    sim_scores = 1 / (1 + dist_scores[0])\n",
        "    sim_scores = list(enumerate(sim_scores))\n",
        "    sim_scores = sorted(sim_scores, key=lambda x: x[1], reverse=True)\n",
        "    sim_scores = sim_scores[:top_n]\n",
        "\n",
        "    product_indices = [i[0] for i in sim_scores]\n",
        "    similarity_scores = [i[1] for i in sim_scores]\n",
        "    recommendations = df.iloc[product_indices][['Product ID', 'Product Name', 'Brand', 'Category', 'Color', 'Size', 'Rating', 'Price']].copy()\n",
        "    recommendations['Similarity Score'] = similarity_scores\n",
        "    return recommendations, product_indices, similarity_scores\n",
        "\n",
        "# Test case\n",
        "product_name = 'Shoes'\n",
        "brand = 'Zara'\n",
        "category = \"Men's Fashion\"\n",
        "color = 'White'\n",
        "size = 'S'\n",
        "\n",
        "# Menampilkan Rekomendasi\n",
        "print(\"\\nRekomendasi (Euclidean Distance):\")\n",
        "recommendations, _, _ = get_recommendations_by_attributes_euclidean(\n",
        "    product_name, brand, category, color, size, top_n=5\n",
        ")\n",
        "print(recommendations)"
      ],
      "metadata": {
        "colab": {
          "base_uri": "https://localhost:8080/"
        },
        "id": "6UvElTffZfrc",
        "outputId": "d7b6e619-8f42-4a53-b687-4fbdb6b27a9b"
      },
      "execution_count": 19,
      "outputs": [
        {
          "output_type": "stream",
          "name": "stdout",
          "text": [
            "\n",
            "Rekomendasi (Euclidean Distance):\n",
            "     Product ID Product Name Brand       Category  Color Size    Rating  \\\n",
            "3             4        Shoes  Zara  Men's Fashion  White    S  1.049523   \n",
            "235         236        Shoes  Zara  Men's Fashion  White    S  1.718298   \n",
            "667         668        Shoes  Zara  Men's Fashion  White    S  1.842279   \n",
            "713         714        Shoes  Zara  Men's Fashion  White    S  2.491495   \n",
            "92           93        Shoes  Nike  Men's Fashion  White    S  4.928128   \n",
            "\n",
            "     Price  Similarity Score  \n",
            "3       23          1.000000  \n",
            "235     44          1.000000  \n",
            "667     11          1.000000  \n",
            "713     35          1.000000  \n",
            "92      70          0.414214  \n"
          ]
        }
      ]
    },
    {
      "cell_type": "markdown",
      "source": [
        "**Insight** : Fungsi menerima input atribut, kemudian menghitung jarak Euclidean antara input dan semua produk, mengonversi ke skor kesamaan, lalu memilih top-5 produk dengan kesamaan tertinggi."
      ],
      "metadata": {
        "id": "Eca6OH7O2r38"
      }
    },
    {
      "cell_type": "markdown",
      "source": [
        "# **Evaluation**"
      ],
      "metadata": {
        "id": "Qxxy8mTFBUVe"
      }
    },
    {
      "cell_type": "markdown",
      "source": [
        "### Cosine Similarity"
      ],
      "metadata": {
        "id": "JW_-djr33DT8"
      }
    },
    {
      "cell_type": "code",
      "source": [
        "# Fungsi untuk menghitung Precision@5 dan Recall@5\n",
        "def evaluate_recommendations(product_name, brand, category, color, size, top_n=5, similarity_threshold=0.9):\n",
        "    recommendations, product_indices, similarity_scores = get_recommendations_by_attributes(\n",
        "        product_name, brand, category, color, size, top_n\n",
        "    )\n",
        "    relevant_items = []\n",
        "    input_data = pd.DataFrame({\n",
        "        'Product Name': [product_name],\n",
        "        'Brand': [brand],\n",
        "        'Category': [category],\n",
        "        'Color': [color],\n",
        "        'Size': [size]\n",
        "    })\n",
        "    input_encoded = encoder.transform(input_data)\n",
        "    sim_scores_all = cosine_similarity(input_encoded, encoded_df[encoder.get_feature_names_out(features)])[0]\n",
        "    relevant_items = [i for i, score in enumerate(sim_scores_all) if score >= similarity_threshold]\n",
        "\n",
        "    relevant_recommendations = sum(1 for idx in product_indices if idx in relevant_items)\n",
        "    precision = relevant_recommendations / top_n if top_n > 0 else 0\n",
        "    total_relevant = len(relevant_items)\n",
        "    recall = relevant_recommendations / total_relevant if total_relevant > 0 else 0\n",
        "\n",
        "    return recommendations, precision, recall, total_relevant\n",
        "\n",
        "# Test case\n",
        "product_name = 'Shoes'\n",
        "brand = 'Zara'\n",
        "category = \"Men's Fashion\"\n",
        "color = 'White'\n",
        "size = 'S'\n",
        "\n",
        "# Evaluasi\n",
        "recommendations, precision, recall, total_relevant = evaluate_recommendations(\n",
        "    product_name, brand, category, color, size, top_n=5, similarity_threshold=0.8\n",
        ")\n",
        "\n",
        "# Menampilkan rekomendasi dan hasil evaluasi\n",
        "print(\"\\nRekomendasi Cosine Similarty:\")\n",
        "print(recommendations)\n",
        "print(f\"\\nPrecision@5: {precision:.2f}\")\n",
        "print(f\"Recall@5: {recall:.2f}\")\n",
        "print(f\"Total Item Relevan: {total_relevant}\")"
      ],
      "metadata": {
        "colab": {
          "base_uri": "https://localhost:8080/"
        },
        "id": "1Ru1gkKmqVHJ",
        "outputId": "31f55dd4-c876-401f-de98-dd5f760fdee2"
      },
      "execution_count": 20,
      "outputs": [
        {
          "output_type": "stream",
          "name": "stdout",
          "text": [
            "\n",
            "Rekomendasi Cosine Similarty:\n",
            "     Product ID Product Name Brand       Category  Color Size    Rating  \\\n",
            "3             4        Shoes  Zara  Men's Fashion  White    S  1.049523   \n",
            "235         236        Shoes  Zara  Men's Fashion  White    S  1.718298   \n",
            "667         668        Shoes  Zara  Men's Fashion  White    S  1.842279   \n",
            "713         714        Shoes  Zara  Men's Fashion  White    S  2.491495   \n",
            "92           93        Shoes  Nike  Men's Fashion  White    S  4.928128   \n",
            "\n",
            "     Price  Similarity Score  \n",
            "3       23               1.0  \n",
            "235     44               1.0  \n",
            "667     11               1.0  \n",
            "713     35               1.0  \n",
            "92      70               0.8  \n",
            "\n",
            "Precision@5: 0.80\n",
            "Recall@5: 1.00\n",
            "Total Item Relevan: 4\n"
          ]
        }
      ]
    },
    {
      "cell_type": "markdown",
      "source": [
        "**Insight** : Hasil evaluasi menunjukkan bahwa sistem rekomendasi berbasis cosine similarity memiliki Precision@5 sebesar 0.80 dan Recall@5 sebesar 1.00. Artinya, dari 5 item yang direkomendasikan, 4 di antaranya relevan dengan preferensi pengguna, dan seluruh item relevan berhasil ditemukan. Hal ini menunjukkan bahwa sistem cukup akurat dan sangat efektif dalam menemukan produk yang sesuai dengan kebutuhan pengguna."
      ],
      "metadata": {
        "id": "LIvguNrIOlgE"
      }
    },
    {
      "cell_type": "markdown",
      "source": [
        "### Euclidean Distance"
      ],
      "metadata": {
        "id": "fFJ4VTil3HRL"
      }
    },
    {
      "cell_type": "code",
      "source": [
        "# Fungsi untuk Menghitung Precision@5 dan Recall@5\n",
        "def evaluate_recommendations_euclidean(product_name, brand, category, color, size, top_n=5, similarity_threshold=0.9):\n",
        "    recommendations, product_indices, similarity_scores = get_recommendations_by_attributes_euclidean(\n",
        "        product_name, brand, category, color, size, top_n\n",
        "    )\n",
        "    relevant_items = []\n",
        "    input_data = pd.DataFrame({\n",
        "        'Product Name': [product_name],\n",
        "        'Brand': [brand],\n",
        "        'Category': [category],\n",
        "        'Color': [color],\n",
        "        'Size': [size]\n",
        "    })\n",
        "    input_encoded = encoder.transform(input_data)\n",
        "    dist_scores = euclidean_distances(input_encoded, encoded_df[encoder.get_feature_names_out(features)])[0]\n",
        "    sim_scores_all = 1 / (1 + dist_scores)\n",
        "    relevant_items = [i for i, score in enumerate(sim_scores_all) if score >= similarity_threshold]\n",
        "\n",
        "    relevant_recommendations = sum(1 for idx in product_indices if idx in relevant_items)\n",
        "    precision = relevant_recommendations / top_n if top_n > 0 else 0\n",
        "    total_relevant = len(relevant_items)\n",
        "    recall = relevant_recommendations / total_relevant if total_relevant > 0 else 0\n",
        "\n",
        "    return recommendations, precision, recall, total_relevant\n",
        "\n",
        "# Test case\n",
        "product_name = 'Shoes'\n",
        "brand = 'Zara'\n",
        "category = \"Men's Fashion\"\n",
        "color = 'White'\n",
        "size = 'S'\n",
        "\n",
        "# Evaluasi\n",
        "recommendations, precision, recall, total_relevant = evaluate_recommendations_euclidean(\n",
        "    product_name, brand, category, color, size, top_n=5, similarity_threshold=0.8\n",
        ")\n",
        "\n",
        "# Menampilkan Hanya Rekomendasi dan Hasil Evaluasi\n",
        "print(\"\\nRekomendasi Ecludean Distance:\")\n",
        "print(recommendations)\n",
        "print(f\"\\nPrecision@5: {precision:.2f}\")\n",
        "print(f\"Recall@5: {recall:.2f}\")\n",
        "print(f\"Total Item Relevan: {total_relevant}\")"
      ],
      "metadata": {
        "colab": {
          "base_uri": "https://localhost:8080/"
        },
        "id": "iA-KZ3wZZJnj",
        "outputId": "c5f50ac1-eafb-44e5-bac3-853cdc42ddfe"
      },
      "execution_count": 21,
      "outputs": [
        {
          "output_type": "stream",
          "name": "stdout",
          "text": [
            "\n",
            "Rekomendasi Ecludean Distance:\n",
            "     Product ID Product Name Brand       Category  Color Size    Rating  \\\n",
            "3             4        Shoes  Zara  Men's Fashion  White    S  1.049523   \n",
            "235         236        Shoes  Zara  Men's Fashion  White    S  1.718298   \n",
            "667         668        Shoes  Zara  Men's Fashion  White    S  1.842279   \n",
            "713         714        Shoes  Zara  Men's Fashion  White    S  2.491495   \n",
            "92           93        Shoes  Nike  Men's Fashion  White    S  4.928128   \n",
            "\n",
            "     Price  Similarity Score  \n",
            "3       23          1.000000  \n",
            "235     44          1.000000  \n",
            "667     11          1.000000  \n",
            "713     35          1.000000  \n",
            "92      70          0.414214  \n",
            "\n",
            "Precision@5: 0.80\n",
            "Recall@5: 1.00\n",
            "Total Item Relevan: 4\n"
          ]
        }
      ]
    },
    {
      "cell_type": "markdown",
      "source": [
        "**Insight** : Hasil evaluasi menunjukkan bahwa sistem rekomendasi berbasis Euclidean distance memiliki Precision@5 sebesar 0.80 dan Recall@5 sebesar 1.00. Artinya, dari 5 item yang direkomendasikan, 4 item relevan dengan preferensi pengguna (80%), dan semua item relevan yang tersedia berhasil direkomendasikan (100% recall). Dengan demikian, sistem sangat efektif dalam menemukan item yang sesuai kebutuhan pengguna dan memberikan rekomendasi yang cukup akurat."
      ],
      "metadata": {
        "id": "U8rVDU5G3QNC"
      }
    }
  ]
}